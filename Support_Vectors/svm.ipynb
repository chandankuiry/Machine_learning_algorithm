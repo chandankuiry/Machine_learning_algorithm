{
 "cells": [
  {
   "cell_type": "markdown",
   "metadata": {},
   "source": [
    "# Support Vector Machines (SVM)\n",
    "### A manual implementation of an SVM with Numpy"
   ]
  },
  {
   "cell_type": "code",
   "execution_count": 60,
   "metadata": {
    "collapsed": true
   },
   "outputs": [],
   "source": [
    "# Import dependencies\n",
    "%matplotlib inline\n",
    "import numpy as np\n",
    "import matplotlib.pyplot as plt\n",
    "import pandas as pd\n",
    "from random import randint"
   ]
  },
  {
   "cell_type": "code",
   "execution_count": 91,
   "metadata": {},
   "outputs": [
    {
     "name": "stdout",
     "output_type": "stream",
     "text": [
      "[[-2  4 -1]\n",
      " [ 4  1 -1]\n",
      " [ 1  6 -1]\n",
      " [ 2  4 -1]\n",
      " [ 6  2 -1]] [-1 -1  1  1  1]\n"
     ]
    }
   ],
   "source": [
    "# First define our data -> liearly separable & 2 classes\n",
    "#Input data - Of the form [X value, Y value, Bias term]\n",
    "x = np.array([\n",
    "    [-2,4,-1],\n",
    "    [4,1,-1],\n",
    "    [1, 6, -1],\n",
    "    [2, 4, -1],\n",
    "    [6, 2, -1],\n",
    "])\n",
    "\n",
    "#Associated output labels - First 2 examples are labeled '-1' and last 3 are labeled '+1'\n",
    "y = np.array([-1,-1,1,1,1])\n",
    "\n",
    "print(x, y)"
   ]
  },
  {
   "cell_type": "code",
   "execution_count": 85,
   "metadata": {},
   "outputs": [
    {
     "name": "stdout",
     "output_type": "stream",
     "text": [
      "[[  6   2  -1]\n",
      " [  7   7  -1]\n",
      " [  8 -11  -1]\n",
      " [ 15   5  -1]\n",
      " [  9   8  -1]] [ 1 -1  1 -1 -1]\n"
     ]
    }
   ],
   "source": [
    "df = pd.read_csv('input1.csv', header=None)\n",
    "# print(df)\n",
    "x = df[0].values\n",
    "y = df[1].values\n",
    "clas = df[2].values\n",
    "r = [randint(0,len(df)-1) for i in range(5)]\n",
    "x = np.array([[df.loc[ro][0], df.loc[ro][1], -1] for ro in r])\n",
    "y = np.array([df.loc[ro][2] for ro in r])\n",
    "print(x, y)"
   ]
  },
  {
   "cell_type": "code",
   "execution_count": 70,
   "metadata": {
    "collapsed": true
   },
   "outputs": [],
   "source": [
    "def plot(x, y,plane):\n",
    "    for i, z in enumerate(x):\n",
    "        print(x[i], y[i])\n",
    "        if y[i] == 1:\n",
    "            plt.plot(x[i][0], x[i][1], 'b.')\n",
    "        else:\n",
    "            plt.plot(x[i][0], x[i][1], 'r.')\n",
    "            \n",
    "    if len(plane) > 1:\n",
    "        # plot plane\n",
    "        # Print the hyperplane calculated by svm_sgd()\n",
    "        x2=[plane[0],plane[1],-plane[1],plane[0]]\n",
    "        x3=[plane[0],plane[1],plane[1],-plane[0]]\n",
    "\n",
    "        x2x3 =np.array([x2,x3])\n",
    "        X,Y,U,V = zip(*x2x3)\n",
    "        ax = plt.gca()\n",
    "        ax.quiver(X,Y,U,V,scale=1, color='blue')\n",
    "    \n",
    "    plt.show()"
   ]
  },
  {
   "cell_type": "code",
   "execution_count": 92,
   "metadata": {},
   "outputs": [
    {
     "name": "stdout",
     "output_type": "stream",
     "text": [
      "[-2  4 -1] -1\n",
      "[ 4  1 -1] -1\n",
      "[ 1  6 -1] 1\n",
      "[ 2  4 -1] 1\n",
      "[ 6  2 -1] 1\n"
     ]
    },
    {
     "data": {
      "image/png": "[encoded data removed]",
      "text/plain": [
       "<matplotlib.figure.Figure at 0x253aae73cc0>"
      ]
     },
     "metadata": {},
     "output_type": "display_data"
    }
   ],
   "source": [
    "plot(x, y, 'a')"
   ]
  },
  {
   "cell_type": "code",
   "execution_count": 95,
   "metadata": {
    "collapsed": true
   },
   "outputs": [],
   "source": [
    "def svm(x, y):\n",
    "    # Initialize ouir weights as a vector of zeros\n",
    "    w = np.zeros(len(x[0]))\n",
    "    # Learning Rate\n",
    "    eta = 1\n",
    "    # Number of epochs\n",
    "    epochs = 100000\n",
    "    # Record our errors for later plotting\n",
    "    errors = []\n",
    "    \n",
    "    # Training part\n",
    "    # Classification condition\n",
    "    for epoch in range(1,epochs):\n",
    "        # Initialize our error to 0\n",
    "        error = 0\n",
    "        # Iterate over each point of our dataset\n",
    "        for i in range(len(x)):\n",
    "            if y[i]*np.dot(x[i], w) < 1:\n",
    "                w = w + eta*( (y[i]*x[i]) - 2*(1/epoch)*w)\n",
    "                # Count this error\n",
    "                error = 1\n",
    "            else:\n",
    "                w = w + eta*(-2*(1/epoch)*w)\n",
    "                \n",
    "            # Add this error to our list\n",
    "            errors.append(error)\n",
    "    \n",
    "    # Plot our errors here\n",
    "    plt.plot(errors, '|')\n",
    "    plt.axes().set_yticklabels([])\n",
    "    plt.ylim(0.5, 1.5)\n",
    "    plt.xlabel('Epochs')\n",
    "    plt.ylabel('Misclassified')\n",
    "    plt.show\n",
    "    \n",
    "    return w"
   ]
  },
  {
   "cell_type": "code",
   "execution_count": 96,
   "metadata": {},
   "outputs": [
    {
     "data": {
      "image/png": "[encoded data removed]",
      "text/plain": [
       "<matplotlib.figure.Figure at 0x253aa9c3b00>"
      ]
     },
     "metadata": {},
     "output_type": "display_data"
    }
   ],
   "source": [
    "weights = svm(x, y)"
   ]
  },
  {
   "cell_type": "code",
   "execution_count": 97,
   "metadata": {},
   "outputs": [
    {
     "name": "stdout",
     "output_type": "stream",
     "text": [
      "[-2  4 -1] -1\n",
      "[ 4  1 -1] -1\n",
      "[ 1  6 -1] 1\n",
      "[ 2  4 -1] 1\n",
      "[ 6  2 -1] 1\n"
     ]
    },
    {
     "data": {
      "image/png": "[encoded data removed]",
      "text/plain": [
       "<matplotlib.figure.Figure at 0x253aabf0208>"
      ]
     },
     "metadata": {},
     "output_type": "display_data"
    }
   ],
   "source": [
    "plot(x, y, weights)\n"
   ]
  },
  {
   "cell_type": "code",
   "execution_count": 90,
   "metadata": {},
   "outputs": [
    {
     "name": "stdout",
     "output_type": "stream",
     "text": [
      "[  1.78770021 -11.36797724 -15.07592505]\n"
     ]
    }
   ],
   "source": [
    "print(weights)"
   ]
  },
  {
   "cell_type": "code",
   "execution_count": null,
   "metadata": {
    "collapsed": true
   },
   "outputs": [],
   "source": []
  }
 ],
 "metadata": {
  "kernelspec": {
   "display_name": "Python 3",
   "language": "python",
   "name": "python3"
  },
  "language_info": {
   "codemirror_mode": {
    "name": "ipython",
    "version": 3
   },
   "file_extension": ".py",
   "mimetype": "text/x-python",
   "name": "python",
   "nbconvert_exporter": "python",
   "pygments_lexer": "ipython3",
   "version": "3.5.3"
  }
 },
 "nbformat": 4,
 "nbformat_minor": 2
}
